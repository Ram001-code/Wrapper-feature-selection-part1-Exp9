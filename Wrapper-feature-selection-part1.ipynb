{
 "cells": [
  {
   "cell_type": "markdown",
   "id": "ca38bb17-ca8b-4d80-ba4b-78b7bdf21e2a",
   "metadata": {},
   "source": [
    "# Wrapper-feature-selection-part1"
   ]
  },
  {
   "cell_type": "code",
   "execution_count": 1,
   "id": "2f132bc2-b70a-40a5-8bed-870fd330123f",
   "metadata": {},
   "outputs": [],
   "source": [
    "import pandas as pd\n",
    "from sklearn.feature_selection import RFE\n",
    "from sklearn.linear_model import LinearRegression"
   ]
  },
  {
   "cell_type": "markdown",
   "id": "4c593a08-729c-42a7-b22a-ac4a2985563b",
   "metadata": {},
   "source": [
    "# Load the dataset"
   ]
  },
  {
   "cell_type": "code",
   "execution_count": 2,
   "id": "a81a063b-8713-4766-b255-8760f7584143",
   "metadata": {},
   "outputs": [],
   "source": [
    "file_path = '.\\dataset\\WHR2023.csv'\n",
    "df = pd.read_csv(file_path)"
   ]
  },
  {
   "cell_type": "markdown",
   "id": "f99877b5-8cd5-489c-a856-f23112e9ca86",
   "metadata": {},
   "source": [
    "# Encoding categorical variables"
   ]
  },
  {
   "cell_type": "code",
   "execution_count": 3,
   "id": "e96b3a58-6341-4de1-8a5f-533d6d45bd6f",
   "metadata": {},
   "outputs": [],
   "source": [
    "df_encoded = pd.get_dummies(df, drop_first=True)\n",
    "df_encoded.fillna(df_encoded.median(), inplace=True)\n",
    "df_encoded.dropna(inplace=True)"
   ]
  },
  {
   "cell_type": "markdown",
   "id": "14b28267-f916-4246-9a71-886a83077cb4",
   "metadata": {},
   "source": [
    "# Define features and target"
   ]
  },
  {
   "cell_type": "code",
   "execution_count": 4,
   "id": "e884253b-c1df-42e0-82ce-3518825ea446",
   "metadata": {},
   "outputs": [],
   "source": [
    "target_column = 'Ladder score'\n",
    "X = df_encoded.drop(target_column, axis=1)\n",
    "y = df_encoded[target_column]"
   ]
  },
  {
   "cell_type": "markdown",
   "id": "ab4345d0-7abf-45bd-865f-160abf19f743",
   "metadata": {},
   "source": [
    "# Recursive Feature Elimination"
   ]
  },
  {
   "cell_type": "code",
   "execution_count": 5,
   "id": "1ac2d782-39a6-40b8-892a-99be6d13628c",
   "metadata": {},
   "outputs": [],
   "source": [
    "model = LinearRegression()\n",
    "rfe = RFE(model, n_features_to_select=5)\n",
    "fit = rfe.fit(X, y)"
   ]
  },
  {
   "cell_type": "markdown",
   "id": "51e7418f-2dc4-41f5-a959-33efaee6991c",
   "metadata": {},
   "source": [
    "# Extract selected features"
   ]
  },
  {
   "cell_type": "code",
   "execution_count": 6,
   "id": "c5ab2afc-4886-4b65-8af7-fe1b647a0832",
   "metadata": {},
   "outputs": [
    {
     "data": {
      "text/plain": [
       "['upperwhisker',\n",
       " 'lowerwhisker',\n",
       " 'Social support',\n",
       " 'Perceptions of corruption',\n",
       " 'Explained by: Perceptions of corruption']"
      ]
     },
     "execution_count": 6,
     "metadata": {},
     "output_type": "execute_result"
    }
   ],
   "source": [
    "selected_features = X.columns[fit.support_]\n",
    "selected_features.tolist()"
   ]
  }
 ],
 "metadata": {
  "kernelspec": {
   "display_name": "Python 3 (ipykernel)",
   "language": "python",
   "name": "python3"
  },
  "language_info": {
   "codemirror_mode": {
    "name": "ipython",
    "version": 3
   },
   "file_extension": ".py",
   "mimetype": "text/x-python",
   "name": "python",
   "nbconvert_exporter": "python",
   "pygments_lexer": "ipython3",
   "version": "3.11.4"
  }
 },
 "nbformat": 4,
 "nbformat_minor": 5
}
